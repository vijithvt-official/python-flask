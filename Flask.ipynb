{
 "cells": [
  {
   "cell_type": "markdown",
   "id": "0b7cde1d-823b-4182-9f98-42daf7f9973a",
   "metadata": {},
   "source": [
    "# Flask \n",
    "\n",
    "Flask is a micro framework for Python web development. A framework, in the\n",
    "simplest terms, is a library or collection of libraries that aims to solve a part of a generic\n",
    "problem instead of a complete specific one. When building web applications, there\n",
    "are some problems that will always need to be solved, such as routing from URLs to\n",
    "resources, inserting dynamic data into HTML, and interacting with an end user.\n",
    "\n",
    "\n",
    "Flask is a micro framework because it implements only core functionality (including\n",
    "routing) but leaves more advanced functionality (including authentication and\n",
    "database ORMs) to extensions. The result of this is less initial setup for the first-time\n",
    "user and more choice and flexibility for the experienced user. This is in contrast\n",
    "with \"fuller\" frameworks, such as Django, which dictate their own ORM and\n",
    "authentication technologies."
   ]
  },
  {
   "cell_type": "markdown",
   "id": "3db271d3-572d-404c-82ea-636e7997380f",
   "metadata": {},
   "source": [
    "### Installing Flask\n",
    "Installing Flask through pip could not be more straightforward. Simply run\n",
    "the following:"
   ]
  },
  {
   "cell_type": "code",
   "execution_count": 10,
   "id": "f1dd2939-0d0e-47f8-a9be-9abf4b356f08",
   "metadata": {},
   "outputs": [
    {
     "name": "stdout",
     "output_type": "stream",
     "text": [
      "Requirement already satisfied: flask in c:\\users\\vijith.v\\appdata\\local\\programs\\python\\python311\\lib\\site-packages (2.3.2)Note: you may need to restart the kernel to use updated packages.\n"
     ]
    },
    {
     "name": "stderr",
     "output_type": "stream",
     "text": [
      "\n",
      "[notice] A new release of pip is available: 23.1.2 -> 25.1.1\n",
      "[notice] To update, run: C:\\Users\\vijith.v\\AppData\\Local\\Programs\\Python\\Python311\\python.exe -m pip install --upgrade pip\n"
     ]
    },
    {
     "name": "stdout",
     "output_type": "stream",
     "text": [
      "\n",
      "Requirement already satisfied: Werkzeug>=2.3.3 in c:\\users\\vijith.v\\appdata\\local\\programs\\python\\python311\\lib\\site-packages (from flask) (3.0.0)\n",
      "Requirement already satisfied: Jinja2>=3.1.2 in c:\\users\\vijith.v\\appdata\\local\\programs\\python\\python311\\lib\\site-packages (from flask) (3.1.3)\n",
      "Requirement already satisfied: itsdangerous>=2.1.2 in c:\\users\\vijith.v\\appdata\\local\\programs\\python\\python311\\lib\\site-packages (from flask) (2.1.2)\n",
      "Requirement already satisfied: click>=8.1.3 in c:\\users\\vijith.v\\appdata\\local\\programs\\python\\python311\\lib\\site-packages (from flask) (8.1.7)\n",
      "Requirement already satisfied: blinker>=1.6.2 in c:\\users\\vijith.v\\appdata\\local\\programs\\python\\python311\\lib\\site-packages (from flask) (1.7.0)\n",
      "Requirement already satisfied: colorama in c:\\users\\vijith.v\\appdata\\local\\programs\\python\\python311\\lib\\site-packages (from click>=8.1.3->flask) (0.4.6)\n",
      "Requirement already satisfied: MarkupSafe>=2.0 in c:\\users\\vijith.v\\appdata\\local\\programs\\python\\python311\\lib\\site-packages (from Jinja2>=3.1.2->flask) (2.1.5)\n"
     ]
    }
   ],
   "source": [
    "pip install flask"
   ]
  },
  {
   "cell_type": "markdown",
   "id": "30366801-5c8b-43a9-8a2a-41033dbb38ff",
   "metadata": {},
   "source": [
    "Now, we'll create a basic web page and serve it using Flask's built-in server to\n",
    "localhost. This means that we'll run a web server on our local machine that we can\n",
    "easily make requests to from our local machine. This is very useful for development\n",
    "but not suited for production applications. Later on, we'll take a look at how to serve\n",
    "Flask web applications using the popular Apache web server.\n",
    "\n",
    "Our application will be a single Python file. Create a directory in your home directory\n",
    "called `firstapp` and a file inside this called `hello.py`. In the `hello.py` file, we'll write\n",
    "code to serve a web page comprising the static string \"Hello, World!\". The code looks\n",
    "as follows:"
   ]
  },
  {
   "cell_type": "code",
   "execution_count": 2,
   "id": "a20f13b2-2b56-439b-a054-1354436f0f38",
   "metadata": {},
   "outputs": [
    {
     "name": "stdout",
     "output_type": "stream",
     "text": [
      " * Serving Flask app '__main__'\n",
      " * Debug mode: on\n"
     ]
    },
    {
     "name": "stderr",
     "output_type": "stream",
     "text": [
      "WARNING: This is a development server. Do not use it in a production deployment. Use a production WSGI server instead.\n",
      " * Running on http://127.0.0.1:5000\n",
      "Press CTRL+C to quit\n",
      " * Restarting with watchdog (windowsapi)\n"
     ]
    },
    {
     "ename": "SystemExit",
     "evalue": "1",
     "output_type": "error",
     "traceback": [
      "An exception has occurred, use %tb to see the full traceback.\n",
      "\u001b[1;31mSystemExit\u001b[0m\u001b[1;31m:\u001b[0m 1\n"
     ]
    },
    {
     "name": "stderr",
     "output_type": "stream",
     "text": [
      "C:\\Users\\vijith.v\\AppData\\Local\\Programs\\Python\\Python311\\Lib\\site-packages\\IPython\\core\\interactiveshell.py:3585: UserWarning: To exit: use 'exit', 'quit', or Ctrl-D.\n",
      "  warn(\"To exit: use 'exit', 'quit', or Ctrl-D.\", stacklevel=1)\n"
     ]
    }
   ],
   "source": [
    "from flask import Flask\n",
    "\n",
    "app = Flask(__name__)\n",
    "\n",
    "@app.route(\"/\")\n",
    "def index():\n",
    "    return \"Hello, World!\"\n",
    "\n",
    "if __name__ == '__main__':\n",
    "    app.run(debug=True)"
   ]
  },
  {
   "cell_type": "markdown",
   "id": "993d4b07-91a2-41d9-9cd0-10313b23b243",
   "metadata": {},
   "source": [
    "- The first line simply imports Flask from the package flask.\n",
    "- The second line creates an instance of the Flask object using our module's name as a parameter. Flask uses this to resolve resources, and in complex cases, one can use something other than __name__ here. For our purposes, we'll always use __name__, which links our module to the Flask object.\n",
    "- Line 3 is a Python decorator. Flask uses decorators for URL routing, so this line of code means that the function directly below it should be called whenever a user visits the main root page of our web application (which is defined by the single forward slash). If you are not familiar with decorators, these are beautiful Python shortcuts that seem a bit like black magic at first. In essence, they call a function that takes the function defined under the decorator (in our case, index()) and returns a modified function.\n",
    "- The next two lines should also seem familiar. They define a very simple function that returns our message. As this function is called by Flask when a user visits our application, the return value of this will be what is sent in response to a user who requests our landing page."
   ]
  },
  {
   "cell_type": "markdown",
   "id": "883f73a8-abca-4a01-bfa7-3bce4d590552",
   "metadata": {},
   "source": [
    "### URL Routing in Flask"
   ]
  },
  {
   "cell_type": "code",
   "execution_count": null,
   "id": "c94e4785-d869-4607-83c7-a028a43f65ee",
   "metadata": {},
   "outputs": [],
   "source": [
    "from flask import Flask\n",
    "\n",
    "app = Flask(__name__)\n",
    "\n",
    "@app.route('/')\n",
    "def home():\n",
    "\treturn 'You are at home page.'\n",
    "\n",
    "@app.route('/students')\n",
    "def student():\n",
    "\treturn 'You are at students page.'\n",
    "\n",
    "@app.route('/teachers')\n",
    "def teacher():\n",
    "\treturn 'You are at teachers page.'\n",
    "\n",
    "if __name__ == '__main__':\n",
    "\tapp.run(port=5001)"
   ]
  },
  {
   "cell_type": "markdown",
   "id": "d50d6034-1c6c-4b0f-920d-142b52289263",
   "metadata": {},
   "source": [
    "## Deploying our application to production\n",
    "\n",
    "As our application\n",
    "is Python-based, we are a bit limited in how we can run our application on a web\n",
    "server (many traditional web hosts are only configured to run PHP and/or .NET\n",
    "applications). Let's consider how to serve Flask applications using a Virtual Private\n",
    "Server (VPS) running Ubuntu Server, Apache, and WSGI.\n",
    "\n",
    "From this point on, we'll maintain two environments. The first is our `development\n",
    "environment`, which we just set up and where we'll write code and view its results\n",
    "using the Flask server running on localhost (as we just did). The second will be\n",
    "a `production environment`. This will be a server to which we can deploy our web\n",
    "applications and make them accessible to the world. When we install new Python\n",
    "libraries or other software on our development environment, we'll normally want to\n",
    "mirror our actions in the production environment."
   ]
  },
  {
   "attachments": {
    "87ff86dc-f99c-4359-9e9a-5627f691bdc0.png": {
     "image/png": "[encoded data removed]"
    }
   },
   "cell_type": "markdown",
   "id": "926aa311-f3cc-432f-af4c-9d3281f60421",
   "metadata": {},
   "source": [
    "#### Setting up a Virtual Private Server\n",
    "\n",
    "Although you could, in theory, host your web application on your local machine and\n",
    "allow others to use it, this has some severe limitations. First of all, every time you\n",
    "turned off your computer, your app would not be available. Also, your computer\n",
    "probably connects to the Internet via an Internet Service Provider (ISP) and possibly\n",
    "a wireless router. This means that your IP address is dynamic and changes regularly,\n",
    "which makes it difficult for your applications' users to keep up! Finally, chances are\n",
    "that you have an asymmetrical connection to the Internet, which means that your\n",
    "upload speed is slower than your download speed.\n",
    "\n",
    "Digital Ocean is often cited to have the simplest\n",
    "process of signing up and creating a new machine. Once you select a provider,\n",
    "you should be able to follow their respective instructions to fire up a VPS that runs\n",
    "Ubuntu Server 14.04 and SSH into it. You'll have full control over the machine with\n",
    "one slight difference: you won't have a display or a mouse. \n",
    "\n",
    "You'll enter commands on your local terminal, which will in fact be run on the\n",
    "remote machine. Detailed instructions on how to connect to your VPS will be\n",
    "given by the provider, but if you use Ubuntu, it should be as simple as running\n",
    "the following:\n",
    "```\n",
    "ssh user@123.456.789.000\n",
    "```\n",
    "Once we connect to the VPS, installing Flask is the same process as it was previously:\n",
    "\n",
    "```\n",
    "sudo apt-get update\n",
    "sudo apt-get install python-pip\n",
    "pip install --user Flask\n",
    "```\n",
    "\n",
    "To install our web server, Apache, and WSGI, we will run the following:\n",
    "```\n",
    "sudo apt-get install apache2\n",
    "sudo apt-get install libapache2-mod-wsgi\n",
    "```\n",
    "\n",
    "Apache is our web server. It will listen for web requests (which are generated by\n",
    "our users visiting our web application using their browsers) and hand these requests\n",
    "over to our Flask application. As our application is in Python, we also need WSGI\n",
    "(Web Server Gateway Interface).\n",
    "\n",
    "This is a common interface between web servers and Python applications, which\n",
    "allows Apache to talk to Flask and vice versa. An overview of the architecture can\n",
    "be seen in the following diagram:\n",
    "\n",
    "![image.png](attachment:87ff86dc-f99c-4359-9e9a-5627f691bdc0.png)\n",
    "\n",
    "**Configuring our server**\n",
    "\n",
    "Now that we've installed Apache, we can see our first results. You're probably used\n",
    "to visiting websites using a URL, such as http://example.com. We'll access our web\n",
    "applications using the IP address of our VPS directly. Your VPS should have a static\n",
    "public address. Static means that it doesn't change periodically, and public means\n",
    "that it is globally unique. When you connected to the VPS via SSH, you probably\n",
    "used the public IP to do this. If you can't find it, run the following on your VPS and\n",
    "you should see an inet addr section in the output, which contains your public IP:\n",
    "ifconfig\n",
    "\n",
    "The IP address should look similar to 123.456.78.9. Enter your IP address into your\n",
    "browser's address bar, and you should see a page saying \"Apache2 Ubuntu Default\n",
    "Page: It Works!\" or something similar.\n",
    "\n",
    "This means that we can now serve web content to anyone with an Internet\n",
    "connection! However, we still have to:\n",
    "```\n",
    "• Copy our code to the VPS\n",
    "• Link up Apache and Flask\n",
    "• Configure Apache to serve our Flask application\n",
    "```\n",
    "For the first step, we'll set up a Git repository on our local machine and clone the\n",
    "repository to the VPS. For the second step, we'll use the WSGI module that we installed\n",
    "with Apache. Finally, we'll take a look at how to write a virtual host to have Apache\n",
    "serve our Flask application by default."
   ]
  },
  {
   "cell_type": "markdown",
   "id": "d931f53a-e639-4a63-aa2f-66efd5023c1c",
   "metadata": {},
   "source": [
    "### Installing and using Git\n",
    "\n",
    "Git is a version control system. A version control system, among other things, saves\n",
    "multiple versions of our code base automatically. This is great to undo accidental\n",
    "changes or even deletions; we can simply revert to a previous version of our code.\n",
    "It also includes lots of functionality for distributed development—that is, many\n",
    "developers working on a single project. We'll use it mainly for its backup and\n",
    "deployment features, however.\n",
    "\n",
    "To install Git on your local machine and VPS, run the following commands on each:\n",
    "```\n",
    "sudo apt-get update\n",
    "sudo apt-get install git\n",
    "```\n",
    "\n",
    "On your local machine, open a terminal and change the directory to the Flask\n",
    "application. Initialize a new repository and link it to your remote Git repository\n",
    "via the following commands:\n",
    "```\n",
    "cd firstapp\n",
    "git init\n",
    "git remote add origin <your-git-url>\n",
    "```\n",
    "\n",
    "Tell git who you are, to allow it to automatically add metadata to your code\n",
    "changes, as follows:\n",
    "```\n",
    "git config --global user.email \"you@example.com\"\n",
    "git config --global user.name \"Your Name\"\n",
    "```\n",
    "\n",
    "Git allows you full control over which files are part of your repository and which\n",
    "aren't. Even though we initialized the Git repo in our firstapp directory, our repo\n",
    "currently contains no files. Add our application to the repo, commit, and then push\n",
    "it, as follows:\n",
    "\n",
    "```\n",
    "git add hello.py\n",
    "git commit -m \"Initial commit\"\n",
    "git push -u origin main\n",
    "```"
   ]
  },
  {
   "cell_type": "markdown",
   "id": "64a659e4-ce28-41bd-86f0-64f41db17361",
   "metadata": {},
   "source": [
    "## Using Templates in Flask\n",
    "\n",
    "Combining static HTML with dynamic content for creating a web page. But it's messy, and we don't want to hack away at Python strings for building our web pages. Mixing HTML and Python is not ideal for a few reasons: for one, it means if we ever want to change static text, such as that which appears in our headings, we have to edit our Python files, which also involves reloading these files into Apache. If we hire frontend developers to work on HTML,\n",
    "we run the risk of them breaking the unfamiliar Python code by mistake, and it's far more difficult to structure any other frontend code such as JavaScript and CSS correctly. Ideally, we should aim for complete segregation between the frontend and backend components. We can achieve this to a large extent using Jinja, but as with most aspects of life, some compromise will be necessary.\n",
    "\n",
    "### Introducing Jinja\n",
    "\n",
    "Jinja is a Python template engine. It allows us to easily define dynamic blocks of\n",
    "HTML which are populated by Python. HTML templates are useful even for static\n",
    "websites which have multiple pages. Usually, there are some common elements,\n",
    "such as headers and footers, on every page. Although it is possible to maintain each\n",
    "page individually for static websites, this requires that a single change be made in\n",
    "multiple places if the change is made to a shared section. Flask was built on top of\n",
    "Jinja, so although it is possible to use Jinja without Flask, Jinja is still an inherent part\n",
    "of Flask, and Flask provides several methods to work directly with Jinja. Generally,\n",
    "Flask assumes nothing about the structure of your application except what you tell\n",
    "it, and prefers providing functionality through optional plugins. Jinja is somewhat of\n",
    "an exception to this. Flask gives you Jinja by default, and assumes that you store all\n",
    "your Jinja templates in a subdirectory of your application named templates.\n",
    "\n",
    "Once we've created templates, we'll make calls from our Flask app to render these\n",
    "templates. Rendering involves parsing the Jinja code, inserting any dynamic data,\n",
    "and creating pure HTML to be returned to a user's browser. All of this is done\n",
    "behind the scenes though, so it can get a bit confusing as to what is being done\n",
    "where. We'll take things one step at a time.\n",
    "\n"
   ]
  },
  {
   "cell_type": "markdown",
   "id": "10e9fa5c-1d3f-44f7-ace8-222af8b7837a",
   "metadata": {},
   "source": [
    "The `render_template` function is the magic which takes a Jinja template as input\n",
    "and produces pure HTML, capable of being read by any browser, as the output.\n",
    "For now, some of the magic is lost, as we'll give it pure HTML as input and view\n",
    "the same as output in our browser."
   ]
  },
  {
   "cell_type": "code",
   "execution_count": 11,
   "id": "dbf008f6-e372-4fd8-927f-a9fa28c0d95c",
   "metadata": {},
   "outputs": [
    {
     "name": "stdout",
     "output_type": "stream",
     "text": [
      "Defaulting to user installation because normal site-packages is not writeable"
     ]
    },
    {
     "name": "stderr",
     "output_type": "stream",
     "text": [
      "\n",
      "[notice] A new release of pip is available: 25.0.1 -> 25.1.1\n",
      "[notice] To update, run: python.exe -m pip install --upgrade pip\n"
     ]
    },
    {
     "name": "stdout",
     "output_type": "stream",
     "text": [
      "\n",
      "Collecting Jinja2\n",
      "  Using cached jinja2-3.1.6-py3-none-any.whl.metadata (2.9 kB)\n",
      "Collecting MarkupSafe>=2.0 (from Jinja2)\n",
      "  Using cached MarkupSafe-3.0.2-cp313-cp313-win_amd64.whl.metadata (4.1 kB)\n",
      "Using cached jinja2-3.1.6-py3-none-any.whl (134 kB)\n",
      "Using cached MarkupSafe-3.0.2-cp313-cp313-win_amd64.whl (15 kB)\n",
      "Installing collected packages: MarkupSafe, Jinja2\n",
      "Successfully installed Jinja2-3.1.6 MarkupSafe-3.0.2\n"
     ]
    }
   ],
   "source": [
    "!pip install Jinja2"
   ]
  },
  {
   "cell_type": "markdown",
   "id": "3dbdc0e0-564d-4c2b-886e-8b4b3fd80c8e",
   "metadata": {},
   "source": [
    "#### Rendering a basic template"
   ]
  },
  {
   "cell_type": "code",
   "execution_count": 14,
   "id": "fa146367-d6fb-41f4-8582-40386799cfa3",
   "metadata": {},
   "outputs": [
    {
     "name": "stdout",
     "output_type": "stream",
     "text": [
      "Writing templates/index.html\n"
     ]
    }
   ],
   "source": [
    "%%writefile templates/index.html\n",
    "<!DOCTYPE html>\n",
    "<html>\n",
    "<head>\n",
    "    <title>Jinja Template</title>\n",
    "</head>\n",
    "<body>\n",
    "    <h1>Hello, {{ user }}!</h1>\n",
    "\n",
    "    <h2>Your favorite languages:</h2>\n",
    "    <ul>\n",
    "        {% for lang in langs %}\n",
    "            <li>{{ lang }}</li>\n",
    "        {% endfor %}\n",
    "    </ul>\n",
    "\n",
    "    {% if user == \"Vijith\" %}\n",
    "        <p>Welcome, master user!</p>\n",
    "    {% else %}\n",
    "        <p>Welcome, guest!</p>\n",
    "    {% endif %}\n",
    "</body>\n",
    "</html>\n"
   ]
  },
  {
   "cell_type": "code",
   "execution_count": 1,
   "id": "9b42a441-76be-4336-8454-4ec9c6f2b9d9",
   "metadata": {},
   "outputs": [
    {
     "name": "stdout",
     "output_type": "stream",
     "text": [
      "Overwriting app.py\n"
     ]
    }
   ],
   "source": [
    "%%writefile app.py\n",
    "\n",
    "from flask import Flask, render_template\n",
    "\n",
    "app = Flask(__name__)\n",
    "\n",
    "@app.route('/')\n",
    "def home():\n",
    "    # Sending data to template\n",
    "    name = \"Vijith\"\n",
    "    languages = [\"Python\", \"JavaScript\", \"C++\"]\n",
    "    return render_template(\"index.html\", user=name, langs=languages)\n",
    "\n",
    "if __name__ == '__main__':\n",
    "    app.run(debug=True)\n"
   ]
  },
  {
   "cell_type": "code",
   "execution_count": 2,
   "id": "aed33eac-6944-4784-b27a-d756330cc983",
   "metadata": {},
   "outputs": [
    {
     "name": "stdout",
     "output_type": "stream",
     "text": [
      "^C\n"
     ]
    }
   ],
   "source": [
    "!python app.py"
   ]
  },
  {
   "cell_type": "markdown",
   "id": "1778a6c1-1680-4244-b1dc-45f10f042849",
   "metadata": {},
   "source": [
    "### Passing dynamic data to our template"
   ]
  },
  {
   "cell_type": "code",
   "execution_count": null,
   "id": "a2919ac4-4cf2-48d4-9c8b-00550bfe729a",
   "metadata": {},
   "outputs": [],
   "source": [
    "%%writefile templates/profile.html\n",
    "\n",
    "<!DOCTYPE html>\n",
    "<html>\n",
    "<head>\n",
    "    <title>User Profile</title>\n",
    "</head>\n",
    "<body>\n",
    "\n",
    "    <h1>User Profile</h1>\n",
    "    \n",
    "    <b>Name:</b> {{ username }}<br />\n",
    "    <b>Email:</b> {{ email }}<br />\n",
    "    <p><b>About:</b> {{ bio }}</p>\n",
    "\n",
    "</body>\n",
    "</html>"
   ]
  },
  {
   "cell_type": "code",
   "execution_count": null,
   "id": "411facc8-eb27-4e4a-a06e-8ba2411d039a",
   "metadata": {},
   "outputs": [],
   "source": [
    "%%writefile app2.py\n",
    "\n",
    "from flask import Flask, render_template\n",
    "\n",
    "app = Flask(__name__)\n",
    "\n",
    "@app.route(\"/\")\n",
    "def profile():\n",
    "    # Dynamic data to be passed to template\n",
    "    return render_template(\"profile.html\",\n",
    "                           username=\"Aarav Desai\",\n",
    "                           email=\"aarav.desai@example.com\",\n",
    "                           bio=\"Lifelong learner. Python developer. Nature lover.\")\n",
    "\n",
    "if __name__ == \"__main__\":\n",
    "    app.run(debug=True)\n"
   ]
  },
  {
   "cell_type": "markdown",
   "id": "c273e8f7-be0a-44c7-b9c4-71fee05e8f18",
   "metadata": {},
   "source": [
    "### Using Jinja Objects\n",
    "\n",
    "The first thing to learn is how Jinja handles objects. All of the basic Python data\n",
    "structures, such as variables, objects, lists, and dictionaries, can be understood by\n",
    "Jinja and can be processed in a very similar way to what we are used to in Python.\n",
    "For example, instead of passing each of the three components of our article separately\n",
    "to our template, we could have passed in the first_article object and dealt with\n",
    "the separation in Jinja. Let's see how to do that. Change the Python code to pass in\n",
    "a single-named argument to render_template, that is first_article, and the\n",
    "frontend code to grab the bits we need from this."
   ]
  },
  {
   "cell_type": "code",
   "execution_count": null,
   "id": "66aa98bd-e449-45af-a228-ea461f573892",
   "metadata": {},
   "outputs": [],
   "source": [
    "%%writefile app3.py\n",
    "\n",
    "from flask import Flask, render_template\n",
    "\n",
    "app = Flask(__name__)\n",
    "\n",
    "@app.route('/')\n",
    "def show_product():\n",
    "    product_info = {\n",
    "        'name': 'Wireless Headphones',\n",
    "        'brand': 'SoundMax',\n",
    "        'price': 129.99,\n",
    "        'features': [\n",
    "            'Bluetooth 5.3',\n",
    "            'Noise Cancellation',\n",
    "            '20-hour Battery Life',\n",
    "            'Built-in Microphone'\n",
    "        ]\n",
    "    }\n",
    "\n",
    "    # Passing the entire dictionary as one object named 'product'\n",
    "    return render_template('product.html', product=product_info)\n",
    "\n",
    "if __name__ == '__main__':\n",
    "    app.run(debug=True)\n"
   ]
  },
  {
   "cell_type": "code",
   "execution_count": null,
   "id": "fbc2db23-ca7b-43a7-a790-d164de26eba2",
   "metadata": {},
   "outputs": [],
   "source": [
    "%%writefile templates/profile.html\n",
    "\n",
    "<!DOCTYPE html>\n",
    "<html>\n",
    "<head>\n",
    "    <title>User Profile</title>\n",
    "</head>\n",
    "<body>\n",
    "\n",
    "    <h1>User Profile</h1>\n",
    "    \n",
    "    <b>Name:</b> {{ username }}<br />\n",
    "    <b>Email:</b> {{ email }}<br />\n",
    "    <p><b>About:</b> {{ bio }}</p>\n",
    "\n",
    "</body>\n",
    "</html>\n"
   ]
  },
  {
   "cell_type": "markdown",
   "id": "b3b88d2c-133b-43e8-8ec9-10ac4e68edfc",
   "metadata": {},
   "source": [
    "### Adding looping logic to our template\n",
    "\n",
    "The Python code defines a list of student dictionaries. render_template() sends this list into the HTML as students. Jinja's {% for student in students %} block loops through each student. Inside the loop, {{ student.name }}, {{ student.age }}, and {{ student.grade }} pull individual values for display."
   ]
  },
  {
   "cell_type": "code",
   "execution_count": null,
   "id": "2a7aeee4-553a-4b3c-ba30-54c983f59813",
   "metadata": {},
   "outputs": [],
   "source": [
    "%%writefile students.html\n",
    "\n",
    "<!DOCTYPE html>\n",
    "<html>\n",
    "<head>\n",
    "    <title>Student Roster</title>\n",
    "</head>\n",
    "<body>\n",
    "    <h1>Class Students</h1>\n",
    "    <ul>\n",
    "    {% for student in students %}\n",
    "        <li>\n",
    "            <b>{{ student.name }}</b> (Age: {{ student.age }}, Grade: {{ student.grade }})\n",
    "        </li>\n",
    "    {% endfor %}\n",
    "    </ul>\n",
    "</body>\n",
    "</html>\n"
   ]
  },
  {
   "cell_type": "code",
   "execution_count": null,
   "id": "027827d1-f7bd-4046-85ee-37b8f5787771",
   "metadata": {},
   "outputs": [],
   "source": [
    "%%writefile app4.py\n",
    "\n",
    "from flask import Flask, render_template\n",
    "\n",
    "app = Flask(__name__)\n",
    "\n",
    "@app.route(\"/\")\n",
    "def student_list():\n",
    "    students = [\n",
    "        {\"name\": \"Aarav\", \"age\": 15, \"grade\": \"10th\"},\n",
    "        {\"name\": \"Diya\", \"age\": 14, \"grade\": \"9th\"},\n",
    "        {\"name\": \"Kabir\", \"age\": 16, \"grade\": \"11th\"},\n",
    "    ]\n",
    "    return render_template(\"students.html\", students=students)\n",
    "\n",
    "if __name__ == \"__main__\":\n",
    "    app.run(debug=True)\n"
   ]
  },
  {
   "cell_type": "markdown",
   "id": "fdf9bbd1-aabc-4a16-8d57-6749d44dd813",
   "metadata": {},
   "source": [
    "### Put and Delete"
   ]
  },
  {
   "cell_type": "code",
   "execution_count": 11,
   "id": "f3d99000-1e84-4c4f-b27c-2b5fcc5c6627",
   "metadata": {},
   "outputs": [
    {
     "name": "stdout",
     "output_type": "stream",
     "text": [
      "Overwriting api.py\n"
     ]
    }
   ],
   "source": [
    "%%writefile api.py\n",
    "\n",
    "from flask import Flask, jsonify, request\n",
    "\n",
    "app = Flask(__name__)\n",
    "\n",
    "##Initial Data in my to do list\n",
    "items = [\n",
    "    {\"id\":1, \"name\": \"Item 1\", \"description\": \"This is item 1\"},\n",
    "    {\"id\":2, \"name\": \"Item 2\", \"description\": \"This is item 2\"},\n",
    "]\n",
    "\n",
    "@app.route('/')\n",
    "def home():\n",
    "    return \"Welcome to the Sample To Do List App\"\n",
    "\n",
    "## Get: Retrieve all the items\n",
    "@app.route('/items', methods=['GET'])\n",
    "def get_items():\n",
    "    return jsonify(items)\n",
    "\n",
    "##get: Retrieve a specic item by Id\n",
    "@app.route('/items/<int:item_id>', methods=['GET'])\n",
    "def get_item(item_id):\n",
    "    item = next((item for item in items if item[\"id\"]==item_id), None)\n",
    "    if item is None:\n",
    "        return jsonify({\"error\":\"item not found\"})\n",
    "    return jsonify(item)\n",
    "\n",
    "## Post : create a new task\n",
    "@app.route('/items',methods=['POST'])\n",
    "def create_item():\n",
    "    if not request.json or not 'name' in request.json:\n",
    "        return jsonify({\"error\":\"item not found\"})\n",
    "    new_item={\n",
    "        \"id\": items[-1][\"id\"]+1 if items else 1,\n",
    "        \"name\":request.json['name'],\n",
    "        \"description\":request.json['description']\n",
    "}\n",
    "    items.append(new_item)\n",
    "    return jsonify(new_item)\n",
    "\n",
    "## Put : Update an existing item\n",
    "@app.route('/items/<int:item_id>', methods=['PUT'])\n",
    "def update_item(item_id):\n",
    "    item = next((item for item in items if item[\"id\"]==item_id), None)\n",
    "    if item is None:\n",
    "        return jsonify({\"error\":\"item not found\"})\n",
    "    item['name'] = request.json.get('name', item['name'])\n",
    "    item['description'] = request.json.get('description', item['description'])\n",
    "    return jsonify(item)\n",
    "\n",
    "## Delete: Delete an item\n",
    "@app.route('/items/<int:item_id>', methods=['DELETE'])\n",
    "def delete_item(item_id):\n",
    "    global items\n",
    "    item = [item for item in items if item[\"id\"]!=item_id]\n",
    "    return jsonify({\"result\":\"Item deleted\"})\n",
    "\n",
    "        \n",
    "if __name__ == \"__main__\":\n",
    "    app.run(debug=True)"
   ]
  },
  {
   "cell_type": "code",
   "execution_count": 5,
   "id": "544e2b09-0ab2-4bee-840c-87099fec0530",
   "metadata": {},
   "outputs": [
    {
     "name": "stdout",
     "output_type": "stream",
     "text": [
      "Writing sample.json\n"
     ]
    }
   ],
   "source": [
    "%%writefile sample.json\n",
    "\n",
    "{\"name\":\"New Item\", \"description\":\"This is a new item\"}\n",
    "{\"name\":\"Updated Item\", \"description\":\"This has been updated\"}"
   ]
  },
  {
   "cell_type": "code",
   "execution_count": null,
   "id": "f0277f44-351f-4b17-a218-724a27e89460",
   "metadata": {},
   "outputs": [],
   "source": []
  }
 ],
 "metadata": {
  "kernelspec": {
   "display_name": "Python 3 (ipykernel)",
   "language": "python",
   "name": "python3"
  },
  "language_info": {
   "codemirror_mode": {
    "name": "ipython",
    "version": 3
   },
   "file_extension": ".py",
   "mimetype": "text/x-python",
   "name": "python",
   "nbconvert_exporter": "python",
   "pygments_lexer": "ipython3",
   "version": "3.11.4"
  }
 },
 "nbformat": 4,
 "nbformat_minor": 5
}
